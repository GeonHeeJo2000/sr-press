{
 "cells": [
  {
   "cell_type": "code",
   "execution_count": 1,
   "metadata": {},
   "outputs": [
    {
     "name": "stdout",
     "output_type": "stream",
     "text": [
      "base_path: /home/uoscisai/Experiments/Football/sr-press\n"
     ]
    }
   ],
   "source": [
    "import os\n",
    "import sys\n",
    "import warnings\n",
    "import pandas as pd\n",
    "from tqdm.notebook import tqdm\n",
    "\n",
    "base_path = os.path.abspath(os.path.join(os.getcwd(), \"..\"))\n",
    "print(f\"base_path: {base_path}\")\n",
    "sys.path.append(base_path)"
   ]
  },
  {
   "cell_type": "code",
   "execution_count": 2,
   "metadata": {},
   "outputs": [],
   "source": [
    "from socceraction.data.statsbomb import StatsBombLoader\n",
    "from statsbombpy import sb\n",
    "from express.databases import SQLiteDatabase\n",
    "from express.visualization import plot_action\n",
    "from express.utils import add_names"
   ]
  },
  {
   "cell_type": "code",
   "execution_count": 3,
   "metadata": {},
   "outputs": [],
   "source": [
    "import warnings\n",
    "warnings.filterwarnings(\"ignore\", category=FutureWarning)\n",
    "warnings.filterwarnings(\"ignore\", category=UserWarning)"
   ]
  },
  {
   "cell_type": "code",
   "execution_count": 4,
   "metadata": {},
   "outputs": [
    {
     "data": {
      "text/html": [
       "<div>\n",
       "<style scoped>\n",
       "    .dataframe tbody tr th:only-of-type {\n",
       "        vertical-align: middle;\n",
       "    }\n",
       "\n",
       "    .dataframe tbody tr th {\n",
       "        vertical-align: top;\n",
       "    }\n",
       "\n",
       "    .dataframe thead th {\n",
       "        text-align: right;\n",
       "    }\n",
       "</style>\n",
       "<table border=\"1\" class=\"dataframe\">\n",
       "  <thead>\n",
       "    <tr style=\"text-align: right;\">\n",
       "      <th></th>\n",
       "      <th>competition_id</th>\n",
       "      <th>season_id</th>\n",
       "      <th>country_name</th>\n",
       "      <th>competition_name</th>\n",
       "      <th>competition_gender</th>\n",
       "      <th>competition_youth</th>\n",
       "      <th>competition_international</th>\n",
       "      <th>season_name</th>\n",
       "      <th>match_updated</th>\n",
       "      <th>match_updated_360</th>\n",
       "      <th>match_available_360</th>\n",
       "      <th>match_available</th>\n",
       "    </tr>\n",
       "  </thead>\n",
       "  <tbody>\n",
       "    <tr>\n",
       "      <th>0</th>\n",
       "      <td>9</td>\n",
       "      <td>281</td>\n",
       "      <td>Germany</td>\n",
       "      <td>1. Bundesliga</td>\n",
       "      <td>male</td>\n",
       "      <td>False</td>\n",
       "      <td>False</td>\n",
       "      <td>2023/2024</td>\n",
       "      <td>2024-07-15T14:15:54.671676</td>\n",
       "      <td>2024-07-15T14:17:00.877356</td>\n",
       "      <td>2024-07-15T14:17:00.877356</td>\n",
       "      <td>2024-07-15T14:15:54.671676</td>\n",
       "    </tr>\n",
       "    <tr>\n",
       "      <th>29</th>\n",
       "      <td>43</td>\n",
       "      <td>106</td>\n",
       "      <td>International</td>\n",
       "      <td>FIFA World Cup</td>\n",
       "      <td>male</td>\n",
       "      <td>False</td>\n",
       "      <td>True</td>\n",
       "      <td>2022</td>\n",
       "      <td>2024-05-15T10:23:32.854925</td>\n",
       "      <td>2024-06-11T11:30:50.462448</td>\n",
       "      <td>2024-06-11T11:30:50.462448</td>\n",
       "      <td>2024-05-15T10:23:32.854925</td>\n",
       "    </tr>\n",
       "    <tr>\n",
       "      <th>68</th>\n",
       "      <td>55</td>\n",
       "      <td>282</td>\n",
       "      <td>Europe</td>\n",
       "      <td>UEFA Euro</td>\n",
       "      <td>male</td>\n",
       "      <td>False</td>\n",
       "      <td>True</td>\n",
       "      <td>2024</td>\n",
       "      <td>2024-07-15T15:48:50.315500</td>\n",
       "      <td>2024-07-15T15:52:24.778809</td>\n",
       "      <td>2024-07-15T15:52:24.778809</td>\n",
       "      <td>2024-07-15T15:48:50.315500</td>\n",
       "    </tr>\n",
       "    <tr>\n",
       "      <th>69</th>\n",
       "      <td>55</td>\n",
       "      <td>43</td>\n",
       "      <td>Europe</td>\n",
       "      <td>UEFA Euro</td>\n",
       "      <td>male</td>\n",
       "      <td>False</td>\n",
       "      <td>True</td>\n",
       "      <td>2020</td>\n",
       "      <td>2024-04-16T12:44:40.558402</td>\n",
       "      <td>2024-04-16T12:47:18.505110</td>\n",
       "      <td>2024-04-16T12:47:18.505110</td>\n",
       "      <td>2024-04-16T12:44:40.558402</td>\n",
       "    </tr>\n",
       "  </tbody>\n",
       "</table>\n",
       "</div>"
      ],
      "text/plain": [
       "    competition_id  season_id   country_name competition_name  \\\n",
       "0                9        281        Germany    1. Bundesliga   \n",
       "29              43        106  International   FIFA World Cup   \n",
       "68              55        282         Europe        UEFA Euro   \n",
       "69              55         43         Europe        UEFA Euro   \n",
       "\n",
       "   competition_gender  competition_youth  competition_international  \\\n",
       "0                male              False                      False   \n",
       "29               male              False                       True   \n",
       "68               male              False                       True   \n",
       "69               male              False                       True   \n",
       "\n",
       "   season_name               match_updated           match_updated_360  \\\n",
       "0    2023/2024  2024-07-15T14:15:54.671676  2024-07-15T14:17:00.877356   \n",
       "29        2022  2024-05-15T10:23:32.854925  2024-06-11T11:30:50.462448   \n",
       "68        2024  2024-07-15T15:48:50.315500  2024-07-15T15:52:24.778809   \n",
       "69        2020  2024-04-16T12:44:40.558402  2024-04-16T12:47:18.505110   \n",
       "\n",
       "           match_available_360             match_available  \n",
       "0   2024-07-15T14:17:00.877356  2024-07-15T14:15:54.671676  \n",
       "29  2024-06-11T11:30:50.462448  2024-05-15T10:23:32.854925  \n",
       "68  2024-07-15T15:52:24.778809  2024-07-15T15:48:50.315500  \n",
       "69  2024-04-16T12:47:18.505110  2024-04-16T12:44:40.558402  "
      ]
     },
     "execution_count": 4,
     "metadata": {},
     "output_type": "execute_result"
    }
   ],
   "source": [
    "SBL = StatsBombLoader(root=os.path.join(base_path, \"../open-data/data\"), getter=\"local\")\n",
    "competition = sb.competitions()\n",
    "\n",
    "# HTTPError: 404 Client Error: Not Found for ur\n",
    "Error_competition = [(11, 90), (7, 235), (7, 108), (44, 107)] # La-Liga 20/21, Ligue1 21/22, Ligue1 22/23 \n",
    "competition = competition[~competition[[\"competition_id\", \"season_id\"]].apply(tuple, axis=1).isin(Error_competition)] # HTTPError: 404 Client Error: Not Found for ur\n",
    "competition = competition[(competition[\"match_available_360\"].notna()) & (competition[\"competition_gender\"] == \"male\")]\n",
    "competition"
   ]
  },
  {
   "cell_type": "code",
   "execution_count": 5,
   "metadata": {},
   "outputs": [
    {
     "data": {
      "application/vnd.jupyter.widget-view+json": {
       "model_id": "7fac0f8df73347288a1b7d69d068fee7",
       "version_major": 2,
       "version_minor": 0
      },
      "text/plain": [
       "0it [00:00, ?it/s]"
      ]
     },
     "metadata": {},
     "output_type": "display_data"
    },
    {
     "name": "stdout",
     "output_type": "stream",
     "text": [
      "(151, 12) (49, 12)\n"
     ]
    }
   ],
   "source": [
    "games = pd.concat([\n",
    "    SBL.games(row.competition_id, row.season_id)\n",
    "    for row in tqdm(competition.itertuples())\n",
    "]).reset_index(drop=True)\n",
    "\n",
    "train_games = games[\n",
    "    ((games['competition_id'] == 9) & (games['season_id'] == 281) & (games['game_day'] <= 17)) | # Bundesliga(1~17 Round)\n",
    "    ((games['competition_id'] == 43) & (games['season_id'] == 106) & (games['game_day'] <= 2)) | # World Cup(1~2 Round)\n",
    "    ((games['competition_id'] == 55) & (games['season_id'].isin([282, 43])))                     # UEFA Euro 2020, 2024\n",
    "]\n",
    "\n",
    "test_games = games[\n",
    "    ((games['competition_id'] == 9) & (games['season_id'] == 281) & (games['game_day'] > 17)) | # Bundesliga(18~34 Round)\n",
    "    ((games['competition_id'] == 43) & (games['season_id'] == 106) & (games['game_day'] > 2))   # World Cup(3~7 Round)\n",
    "]\n",
    "\n",
    "print(train_games.shape, test_games.shape)"
   ]
  },
  {
   "cell_type": "code",
   "execution_count": 6,
   "metadata": {},
   "outputs": [
    {
     "name": "stdout",
     "output_type": "stream",
     "text": [
      "train_db: <express.databases.sqlite.SQLiteDatabase object at 0x717de0404640>\n",
      "test_db: <express.databases.sqlite.SQLiteDatabase object at 0x717de0ac6a70>\n"
     ]
    }
   ],
   "source": [
    "TRAIN_DB_PATH = os.path.join(base_path, \"stores/train_database.sqlite\")\n",
    "TEST_DB_PATH = os.path.join(base_path, \"stores/test_database.sqlite\")\n",
    "\n",
    "train_db = SQLiteDatabase(TRAIN_DB_PATH)\n",
    "test_db = SQLiteDatabase(TEST_DB_PATH)\n",
    "\n",
    "print(\"train_db:\", train_db)\n",
    "print(\"test_db:\", test_db)"
   ]
  },
  {
   "cell_type": "code",
   "execution_count": 7,
   "metadata": {},
   "outputs": [
    {
     "data": {
      "application/vnd.jupyter.widget-view+json": {
       "model_id": "3606eb769dfb401090e13b80299da165",
       "version_major": 2,
       "version_minor": 0
      },
      "text/plain": [
       "train_game loading: 0it [00:00, ?it/s]"
      ]
     },
     "metadata": {},
     "output_type": "display_data"
    },
    {
     "data": {
      "application/vnd.jupyter.widget-view+json": {
       "model_id": "e57f74a0bc694076b88af556e2faaba6",
       "version_major": 2,
       "version_minor": 0
      },
      "text/plain": [
       "test_game loading: 0it [00:00, ?it/s]"
      ]
     },
     "metadata": {},
     "output_type": "display_data"
    },
    {
     "name": "stderr",
     "output_type": "stream",
     "text": [
      "\n",
      "KeyboardInterrupt\n",
      "\n"
     ]
    }
   ],
   "source": [
    "for _, game in tqdm(train_games.iterrows(), desc=\"train_game loading\"):\n",
    "    dataset = {\"getter\": \"local\", \n",
    "                \"competition_id\": game[\"competition_id\"], \n",
    "                \"season_id\": game[\"season_id\"], \n",
    "                \"game_id\": game[\"game_id\"],\n",
    "                \"root\": os.path.join(base_path, \"../open-data/data\")}\n",
    "    \n",
    "    train_db.import_data(**dataset)\n",
    "\n",
    "for _, game in tqdm(test_games.iterrows(), desc=\"test_game loading\"):\n",
    "    dataset = {\"getter\": \"local\", \n",
    "                \"competition_id\": game[\"competition_id\"], \n",
    "                \"season_id\": game[\"season_id\"], \n",
    "                \"game_id\": game[\"game_id\"],\n",
    "                \"root\": os.path.join(base_path, \"../open-data/data\")}\n",
    "    \n",
    "    test_db.import_data(**dataset)"
   ]
  },
  {
   "cell_type": "code",
   "execution_count": null,
   "metadata": {},
   "outputs": [],
   "source": []
  },
  {
   "cell_type": "code",
   "execution_count": null,
   "metadata": {},
   "outputs": [],
   "source": [
    "game_id = 3895202\n",
    "\n",
    "df_actions = add_names(test_db.actions(game_id)).reset_index()\n",
    "df_actions.head()"
   ]
  },
  {
   "cell_type": "code",
   "execution_count": null,
   "metadata": {},
   "outputs": [],
   "source": [
    "df_actions[df_actions[\"original_event_id\"] == \"c2d74b65-f31d-4d50-a027-fb42fec6ac60\"].iloc[:, :13]"
   ]
  },
  {
   "cell_type": "code",
   "execution_count": null,
   "metadata": {},
   "outputs": [],
   "source": [
    "df_actions[df_actions[\"original_event_id\"] == \"c2d74b65-f31d-4d50-a027-fb42fec6ac60\"].iloc[:, 13:]"
   ]
  },
  {
   "cell_type": "code",
   "execution_count": null,
   "metadata": {},
   "outputs": [],
   "source": [
    "df_actions[(df_actions[\"type_name\"] == \"pressing\") & (df_actions[\"result_name\"] == \"success\")]"
   ]
  },
  {
   "cell_type": "code",
   "execution_count": null,
   "metadata": {},
   "outputs": [],
   "source": [
    "df_actions[df_actions[\"type_name\"] == \"pressing\"].index[62]"
   ]
  },
  {
   "cell_type": "code",
   "execution_count": null,
   "metadata": {},
   "outputs": [],
   "source": [
    "pressure_idx = df_actions[df_actions[\"type_name\"] == \"pressing\"].index[62]\n",
    "home_team_id, away_team_id = train_db.get_home_away_team_id(game_id = 3788741)\n",
    "\n",
    "print(home_team_id, away_team_id)\n",
    "\n",
    "for idx in range(pressure_idx-10, pressure_idx+2):\n",
    "    if df_actions.loc[idx][\"freeze_frame_360\"] is None:\n",
    "        print(\"Skip action due to missing freeze frame:\",idx)\n",
    "        plot_action(df_actions.loc[idx], home_team_id=home_team_id, show_visible_area=False)\n",
    "    else:\n",
    "        # plot_action: 데이터의 위치 정보는 홈팀은 left->right, 원정팀은 left<-right인 상태이다.\n",
    "        plot_action(df_actions.loc[idx], home_team_id=home_team_id)"
   ]
  },
  {
   "cell_type": "code",
   "execution_count": null,
   "metadata": {},
   "outputs": [],
   "source": []
  }
 ],
 "metadata": {
  "kernelspec": {
   "display_name": "Python 3 (ipykernel)",
   "language": "python",
   "name": "python3"
  },
  "language_info": {
   "codemirror_mode": {
    "name": "ipython",
    "version": 3
   },
   "file_extension": ".py",
   "mimetype": "text/x-python",
   "name": "python",
   "nbconvert_exporter": "python",
   "pygments_lexer": "ipython3",
   "version": "3.10.15"
  }
 },
 "nbformat": 4,
 "nbformat_minor": 4
}

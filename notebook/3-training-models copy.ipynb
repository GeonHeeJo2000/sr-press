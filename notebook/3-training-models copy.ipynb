{
 "cells": [
  {
   "cell_type": "code",
   "execution_count": 1,
   "metadata": {},
   "outputs": [
    {
     "name": "stdout",
     "output_type": "stream",
     "text": [
      "base_path: /home/ubuntu/LMH/sr-press\n",
      "root_path: /data/mm/sr-press\n"
     ]
    }
   ],
   "source": [
    "%load_ext autoreload\n",
    "%autoreload 2\n",
    "\n",
    "import os\n",
    "import sys\n",
    "import warnings\n",
    "import pandas as pd\n",
    "from tqdm.notebook import tqdm\n",
    "\n",
    "root_path = \"/data/mm/sr-press\"\n",
    "base_path = os.path.abspath(os.path.join(os.getcwd(), \"..\"))\n",
    "print(f\"base_path: {base_path}\")\n",
    "print(f\"root_path: {root_path}\")\n",
    "sys.path.append(base_path)\n",
    "sys.path.append(root_path)"
   ]
  },
  {
   "cell_type": "code",
   "execution_count": 2,
   "metadata": {},
   "outputs": [],
   "source": [
    "from functools import partial\n",
    "from xgboost import XGBClassifier\n",
    "from gplearn.genetic import SymbolicClassifier"
   ]
  },
  {
   "cell_type": "code",
   "execution_count": 3,
   "metadata": {},
   "outputs": [
    {
     "name": "stderr",
     "output_type": "stream",
     "text": [
      "/home/ubuntu/miniforge3/envs/mm/lib/python3.10/site-packages/dask/dataframe/__init__.py:42: FutureWarning: \n",
      "Dask dataframe query planning is disabled because dask-expr is not installed.\n",
      "\n",
      "You can install it with `pip install dask[dataframe]` or `conda install dask`.\n",
      "This will raise in a future version.\n",
      "\n",
      "  warnings.warn(msg, FutureWarning)\n"
     ]
    }
   ],
   "source": [
    "from express.databases import SQLiteDatabase\n",
    "from express.datasets import PressingDataset\n",
    "from express.components import press\n",
    "from express.visualization import plot_action\n",
    "from express.utils import add_names"
   ]
  },
  {
   "cell_type": "code",
   "execution_count": 4,
   "metadata": {},
   "outputs": [
    {
     "name": "stdout",
     "output_type": "stream",
     "text": [
      "train_db: <express.databases.sqlite.SQLiteDatabase object at 0x7f12b284d060>\n",
      "test_db: <express.databases.sqlite.SQLiteDatabase object at 0x7f12b284d090>\n"
     ]
    }
   ],
   "source": [
    "# TRAIN_DB_PATH = os.path.join(base_path, \"stores/train_database.sqlite\")\n",
    "# TEST_DB_PATH = os.path.join(base_path, \"stores/test_database.sqlite\")\n",
    "TRAIN_DB_PATH = os.path.join(root_path, \"stores/train_database.sqlite\")\n",
    "TEST_DB_PATH = os.path.join(root_path, \"stores/test_database.sqlite\")\n",
    "\n",
    "train_db = SQLiteDatabase(TRAIN_DB_PATH)\n",
    "test_db = SQLiteDatabase(TEST_DB_PATH)\n",
    "\n",
    "print(\"train_db:\", train_db)\n",
    "print(\"test_db:\", test_db)"
   ]
  },
  {
   "cell_type": "code",
   "execution_count": 10,
   "metadata": {},
   "outputs": [
    {
     "name": "stdout",
     "output_type": "stream",
     "text": [
      "dataset_train: functools.partial(<class 'express.datasets.PressingDataset'>, path='/data/mm/sr-press/stores/datasets/train')\n",
      "dataset_test: functools.partial(<class 'express.datasets.PressingDataset'>, path='/data/mm/sr-press/stores/datasets/test')\n"
     ]
    }
   ],
   "source": [
    "# dataset_train = partial(PressingDataset, path=os.path.join(base_path, \"stores\", \"datasets\", \"train\"))\n",
    "# dataset_test = partial(PressingDataset, path=os.path.join(base_path, \"stores\", \"datasets\", \"test\"))\n",
    "dataset_train = partial(PressingDataset, path=os.path.join(root_path, \"stores\", \"datasets\", \"train\"))\n",
    "dataset_test = partial(PressingDataset, path=os.path.join(root_path, \"stores\", \"datasets\", \"test\"))\n",
    "\n",
    "print(\"dataset_train:\", dataset_train)\n",
    "print(\"dataset_test:\", dataset_test)"
   ]
  },
  {
   "cell_type": "code",
   "execution_count": 6,
   "metadata": {},
   "outputs": [
    {
     "name": "stdout",
     "output_type": "stream",
     "text": [
      "Test DataSet: (12406, 9)\n",
      "Test Dataset: {(False,): 9954, (True,): 2452}\n"
     ]
    }
   ],
   "source": [
    "# xgboost, symbolic_regression\n",
    "test_dataset = PressingDataset(\n",
    "    # path= os.path.join(base_path, \"stores\", \"datasets\", \"test\"),\n",
    "    path= os.path.join(root_path, \"stores\", \"datasets\", \"test\"),\n",
    "    # xfns=[\"startlocation\", \"closest_11_players\"],\n",
    "    xfns=[\"startlocation\", \"freeze_frame_360\"],\n",
    "    yfns=[\"counterpress\"],\n",
    "    # yfns=[\"concede_shots\"],\n",
    "    load_cached=True,\n",
    "    nb_prev_actions=3\n",
    ")\n",
    "\n",
    "# soccermap\n",
    "# test_dataset = PressingDataset(\n",
    "#     path= os.path.join(base_path, \"stores\", \"datasets\", \"test\"),\n",
    "#     xfns=[\"startlocation\", \"freeze_frame_360\"],\n",
    "#     yfns=[\"counterpress\"],\n",
    "#     load_cached=True,\n",
    "#     nb_prev_actions=1\n",
    "# )\n",
    "\n",
    "print(f\"Test DataSet: {test_dataset.features.shape}\")\n",
    "print(f\"Test Dataset: {test_dataset.labels.value_counts().to_dict()}\")"
   ]
  },
  {
   "cell_type": "code",
   "execution_count": 7,
   "metadata": {},
   "outputs": [
    {
     "name": "stdout",
     "output_type": "stream",
     "text": [
      "/home/ubuntu/LMH/sr-press/stores/model/xgboost/503/component.pkl\n"
     ]
    }
   ],
   "source": [
    "model = \"xgboost\" #\"soccermap\"\n",
    "trial = 503\n",
    "save_path = os.path.join(base_path, \"stores\", \"model\", model, f\"{trial:03d}\", \"component.pkl\")\n",
    "if os.path.exists(save_path):\n",
    "    print(save_path)\n",
    "else:\n",
    "    print(\"Path Error\")"
   ]
  },
  {
   "cell_type": "code",
   "execution_count": 8,
   "metadata": {},
   "outputs": [
    {
     "data": {
      "text/plain": [
       "<express.components.press.XGBoostComponent at 0x7f129db74eb0>"
      ]
     },
     "execution_count": 8,
     "metadata": {},
     "output_type": "execute_result"
    }
   ],
   "source": [
    "from express.components.base import exPressComponent\n",
    "import pickle\n",
    "from pathlib import Path\n",
    "\n",
    "path = Path(save_path)\n",
    "component = pickle.load(path.open(mode=\"rb\"))\n",
    "component"
   ]
  },
  {
   "cell_type": "code",
   "execution_count": 11,
   "metadata": {},
   "outputs": [
    {
     "data": {
      "text/plain": [
       "{'precision': 0.863928748144483,\n",
       " 'recall': 0.7039376427899476,\n",
       " 'f1': 0.7757701421800948,\n",
       " 'log_loss': 0.20296205532855557,\n",
       " 'brier': 0.0589724167690651,\n",
       " 'roc_auc': 0.9617237333202706}"
      ]
     },
     "execution_count": 11,
     "metadata": {},
     "output_type": "execute_result"
    }
   ],
   "source": [
    "component.test(dataset_train)"
   ]
  },
  {
   "cell_type": "code",
   "execution_count": 12,
   "metadata": {},
   "outputs": [
    {
     "data": {
      "text/plain": [
       "{'precision': 0.7124582869855395,\n",
       " 'recall': 0.5224306688417618,\n",
       " 'f1': 0.6028235294117648,\n",
       " 'log_loss': 0.31629473141861647,\n",
       " 'brier': 0.09718685378148281,\n",
       " 'roc_auc': 0.8902740534681394}"
      ]
     },
     "execution_count": 12,
     "metadata": {},
     "output_type": "execute_result"
    }
   ],
   "source": [
    "component.test(dataset_test)"
   ]
  },
  {
   "cell_type": "code",
   "execution_count": 13,
   "metadata": {},
   "outputs": [
    {
     "data": {
      "text/html": [
       "<div>\n",
       "<style scoped>\n",
       "    .dataframe tbody tr th:only-of-type {\n",
       "        vertical-align: middle;\n",
       "    }\n",
       "\n",
       "    .dataframe tbody tr th {\n",
       "        vertical-align: top;\n",
       "    }\n",
       "\n",
       "    .dataframe thead th {\n",
       "        text-align: right;\n",
       "    }\n",
       "</style>\n",
       "<table border=\"1\" class=\"dataframe\">\n",
       "  <thead>\n",
       "    <tr style=\"text-align: right;\">\n",
       "      <th></th>\n",
       "      <th>game_id</th>\n",
       "      <th>action_id</th>\n",
       "      <th>original_event_id</th>\n",
       "      <th>period_id</th>\n",
       "      <th>time_seconds</th>\n",
       "      <th>team_id</th>\n",
       "      <th>player_id</th>\n",
       "      <th>start_x</th>\n",
       "      <th>start_y</th>\n",
       "      <th>end_x</th>\n",
       "      <th>...</th>\n",
       "      <th>play_pattern_name</th>\n",
       "      <th>under_pressure</th>\n",
       "      <th>duration</th>\n",
       "      <th>extra</th>\n",
       "      <th>visible_area_360</th>\n",
       "      <th>in_visible_area_360</th>\n",
       "      <th>freeze_frame_360</th>\n",
       "      <th>type_name</th>\n",
       "      <th>result_name</th>\n",
       "      <th>bodypart_name</th>\n",
       "    </tr>\n",
       "  </thead>\n",
       "  <tbody>\n",
       "    <tr>\n",
       "      <th>0</th>\n",
       "      <td>3895202</td>\n",
       "      <td>0</td>\n",
       "      <td>b98b3109-8cb2-4017-8960-a8cb2a1937c1</td>\n",
       "      <td>1</td>\n",
       "      <td>0.575</td>\n",
       "      <td>182</td>\n",
       "      <td>39167</td>\n",
       "      <td>52.0625</td>\n",
       "      <td>34.425</td>\n",
       "      <td>49.2625</td>\n",
       "      <td>...</td>\n",
       "      <td>From Kick Off</td>\n",
       "      <td>0</td>\n",
       "      <td>0.440712</td>\n",
       "      <td>{'pass': {'recipient': {'id': 16532, 'name': '...</td>\n",
       "      <td>None</td>\n",
       "      <td>0</td>\n",
       "      <td>None</td>\n",
       "      <td>pass</td>\n",
       "      <td>success</td>\n",
       "      <td>foot_left</td>\n",
       "    </tr>\n",
       "    <tr>\n",
       "      <th>1</th>\n",
       "      <td>3895202</td>\n",
       "      <td>1</td>\n",
       "      <td>c2231776-f3ce-43d6-b431-0af2dc65c313</td>\n",
       "      <td>1</td>\n",
       "      <td>1.016</td>\n",
       "      <td>182</td>\n",
       "      <td>16532</td>\n",
       "      <td>49.2625</td>\n",
       "      <td>31.875</td>\n",
       "      <td>48.5625</td>\n",
       "      <td>...</td>\n",
       "      <td>From Kick Off</td>\n",
       "      <td>0</td>\n",
       "      <td>0.120000</td>\n",
       "      <td>{'carry': {'end_location': [56.0, 43.0]}}</td>\n",
       "      <td>None</td>\n",
       "      <td>0</td>\n",
       "      <td>None</td>\n",
       "      <td>dribble</td>\n",
       "      <td>success</td>\n",
       "      <td>foot</td>\n",
       "    </tr>\n",
       "    <tr>\n",
       "      <th>2</th>\n",
       "      <td>3895202</td>\n",
       "      <td>2</td>\n",
       "      <td>04aea3ae-64dc-4ec8-aca8-96f72f4ffa44</td>\n",
       "      <td>1</td>\n",
       "      <td>1.136</td>\n",
       "      <td>182</td>\n",
       "      <td>16532</td>\n",
       "      <td>48.5625</td>\n",
       "      <td>31.875</td>\n",
       "      <td>51.7125</td>\n",
       "      <td>...</td>\n",
       "      <td>From Kick Off</td>\n",
       "      <td>0</td>\n",
       "      <td>0.582041</td>\n",
       "      <td>{'pass': {'recipient': {'id': 39167, 'name': '...</td>\n",
       "      <td>None</td>\n",
       "      <td>0</td>\n",
       "      <td>None</td>\n",
       "      <td>pass</td>\n",
       "      <td>success</td>\n",
       "      <td>foot_right</td>\n",
       "    </tr>\n",
       "    <tr>\n",
       "      <th>3</th>\n",
       "      <td>3895202</td>\n",
       "      <td>3</td>\n",
       "      <td>e8417cec-49aa-4d9f-89ee-b6fca968081d</td>\n",
       "      <td>1</td>\n",
       "      <td>1.718</td>\n",
       "      <td>182</td>\n",
       "      <td>39167</td>\n",
       "      <td>51.7125</td>\n",
       "      <td>34.000</td>\n",
       "      <td>51.1000</td>\n",
       "      <td>...</td>\n",
       "      <td>From Kick Off</td>\n",
       "      <td>0</td>\n",
       "      <td>0.160000</td>\n",
       "      <td>{'carry': {'end_location': [58.9, 40.5]}}</td>\n",
       "      <td>None</td>\n",
       "      <td>0</td>\n",
       "      <td>None</td>\n",
       "      <td>dribble</td>\n",
       "      <td>success</td>\n",
       "      <td>foot</td>\n",
       "    </tr>\n",
       "    <tr>\n",
       "      <th>4</th>\n",
       "      <td>3895202</td>\n",
       "      <td>4</td>\n",
       "      <td>c10715ad-d07f-4a7e-afa1-591d47148016</td>\n",
       "      <td>1</td>\n",
       "      <td>1.878</td>\n",
       "      <td>182</td>\n",
       "      <td>39167</td>\n",
       "      <td>51.1000</td>\n",
       "      <td>34.000</td>\n",
       "      <td>40.6875</td>\n",
       "      <td>...</td>\n",
       "      <td>From Kick Off</td>\n",
       "      <td>0</td>\n",
       "      <td>0.863635</td>\n",
       "      <td>{'pass': {'recipient': {'id': 39460, 'name': '...</td>\n",
       "      <td>None</td>\n",
       "      <td>0</td>\n",
       "      <td>None</td>\n",
       "      <td>pass</td>\n",
       "      <td>success</td>\n",
       "      <td>foot_right</td>\n",
       "    </tr>\n",
       "  </tbody>\n",
       "</table>\n",
       "<p>5 rows × 25 columns</p>\n",
       "</div>"
      ],
      "text/plain": [
       "   game_id  action_id                     original_event_id  period_id  \\\n",
       "0  3895202          0  b98b3109-8cb2-4017-8960-a8cb2a1937c1          1   \n",
       "1  3895202          1  c2231776-f3ce-43d6-b431-0af2dc65c313          1   \n",
       "2  3895202          2  04aea3ae-64dc-4ec8-aca8-96f72f4ffa44          1   \n",
       "3  3895202          3  e8417cec-49aa-4d9f-89ee-b6fca968081d          1   \n",
       "4  3895202          4  c10715ad-d07f-4a7e-afa1-591d47148016          1   \n",
       "\n",
       "   time_seconds  team_id  player_id  start_x  start_y    end_x  ...  \\\n",
       "0         0.575      182      39167  52.0625   34.425  49.2625  ...   \n",
       "1         1.016      182      16532  49.2625   31.875  48.5625  ...   \n",
       "2         1.136      182      16532  48.5625   31.875  51.7125  ...   \n",
       "3         1.718      182      39167  51.7125   34.000  51.1000  ...   \n",
       "4         1.878      182      39167  51.1000   34.000  40.6875  ...   \n",
       "\n",
       "   play_pattern_name  under_pressure  duration  \\\n",
       "0      From Kick Off               0  0.440712   \n",
       "1      From Kick Off               0  0.120000   \n",
       "2      From Kick Off               0  0.582041   \n",
       "3      From Kick Off               0  0.160000   \n",
       "4      From Kick Off               0  0.863635   \n",
       "\n",
       "                                               extra  visible_area_360  \\\n",
       "0  {'pass': {'recipient': {'id': 16532, 'name': '...              None   \n",
       "1          {'carry': {'end_location': [56.0, 43.0]}}              None   \n",
       "2  {'pass': {'recipient': {'id': 39167, 'name': '...              None   \n",
       "3          {'carry': {'end_location': [58.9, 40.5]}}              None   \n",
       "4  {'pass': {'recipient': {'id': 39460, 'name': '...              None   \n",
       "\n",
       "  in_visible_area_360  freeze_frame_360  type_name result_name bodypart_name  \n",
       "0                   0              None       pass     success     foot_left  \n",
       "1                   0              None    dribble     success          foot  \n",
       "2                   0              None       pass     success    foot_right  \n",
       "3                   0              None    dribble     success          foot  \n",
       "4                   0              None       pass     success    foot_right  \n",
       "\n",
       "[5 rows x 25 columns]"
      ]
     },
     "execution_count": 13,
     "metadata": {},
     "output_type": "execute_result"
    }
   ],
   "source": [
    "game_id = 3895202\n",
    "\n",
    "df_actions = add_names(test_db.actions(game_id)).reset_index()\n",
    "df_actions.head()"
   ]
  },
  {
   "cell_type": "code",
   "execution_count": 14,
   "metadata": {},
   "outputs": [
    {
     "data": {
      "text/plain": [
       "555"
      ]
     },
     "execution_count": 14,
     "metadata": {},
     "output_type": "execute_result"
    }
   ],
   "source": [
    "df_actions[df_actions['original_event_id'] == \"c2d74b65-f31d-4d50-a027-fb42fec6ac60\"].index[0]"
   ]
  },
  {
   "cell_type": "markdown",
   "metadata": {},
   "source": [
    "### Visualization"
   ]
  },
  {
   "cell_type": "code",
   "execution_count": 15,
   "metadata": {},
   "outputs": [],
   "source": [
    "data = component.initialize_dataset(dataset_test)\n",
    "X_test, y_test = data.features, data.labels\n",
    "# X_test = X_test.reset_index()"
   ]
  },
  {
   "cell_type": "code",
   "execution_count": 20,
   "metadata": {},
   "outputs": [
    {
     "data": {
      "text/html": [
       "<div>\n",
       "<style scoped>\n",
       "    .dataframe tbody tr th:only-of-type {\n",
       "        vertical-align: middle;\n",
       "    }\n",
       "\n",
       "    .dataframe tbody tr th {\n",
       "        vertical-align: top;\n",
       "    }\n",
       "\n",
       "    .dataframe thead th {\n",
       "        text-align: right;\n",
       "    }\n",
       "</style>\n",
       "<table border=\"1\" class=\"dataframe\">\n",
       "  <thead>\n",
       "    <tr style=\"text-align: right;\">\n",
       "      <th></th>\n",
       "      <th>game_id</th>\n",
       "      <th>action_id</th>\n",
       "      <th>original_event_id</th>\n",
       "      <th>period_id</th>\n",
       "      <th>time_seconds</th>\n",
       "      <th>team_id</th>\n",
       "      <th>player_id</th>\n",
       "      <th>start_x</th>\n",
       "      <th>start_y</th>\n",
       "      <th>end_x</th>\n",
       "      <th>...</th>\n",
       "      <th>play_pattern_name</th>\n",
       "      <th>under_pressure</th>\n",
       "      <th>duration</th>\n",
       "      <th>extra</th>\n",
       "      <th>visible_area_360</th>\n",
       "      <th>in_visible_area_360</th>\n",
       "      <th>freeze_frame_360</th>\n",
       "      <th>type_name</th>\n",
       "      <th>result_name</th>\n",
       "      <th>bodypart_name</th>\n",
       "    </tr>\n",
       "  </thead>\n",
       "  <tbody>\n",
       "    <tr>\n",
       "      <th>555</th>\n",
       "      <td>3895202</td>\n",
       "      <td>555</td>\n",
       "      <td>c2d74b65-f31d-4d50-a027-fb42fec6ac60</td>\n",
       "      <td>1</td>\n",
       "      <td>973.716</td>\n",
       "      <td>182</td>\n",
       "      <td>39460</td>\n",
       "      <td>53.1125</td>\n",
       "      <td>34.51</td>\n",
       "      <td>53.1125</td>\n",
       "      <td>...</td>\n",
       "      <td>From Free Kick</td>\n",
       "      <td>0</td>\n",
       "      <td>0.321153</td>\n",
       "      <td>{}</td>\n",
       "      <td>[[45.70343873800862, 12.94260716187194], [39.3...</td>\n",
       "      <td>1</td>\n",
       "      <td>[{'teammate': False, 'actor': False, 'keeper':...</td>\n",
       "      <td>pressing</td>\n",
       "      <td>fail</td>\n",
       "      <td>foot</td>\n",
       "    </tr>\n",
       "  </tbody>\n",
       "</table>\n",
       "<p>1 rows × 25 columns</p>\n",
       "</div>"
      ],
      "text/plain": [
       "     game_id  action_id                     original_event_id  period_id  \\\n",
       "555  3895202        555  c2d74b65-f31d-4d50-a027-fb42fec6ac60          1   \n",
       "\n",
       "     time_seconds  team_id  player_id  start_x  start_y    end_x  ...  \\\n",
       "555       973.716      182      39460  53.1125    34.51  53.1125  ...   \n",
       "\n",
       "     play_pattern_name  under_pressure  duration  extra  \\\n",
       "555     From Free Kick               0  0.321153     {}   \n",
       "\n",
       "                                      visible_area_360 in_visible_area_360  \\\n",
       "555  [[45.70343873800862, 12.94260716187194], [39.3...                   1   \n",
       "\n",
       "                                      freeze_frame_360  type_name result_name  \\\n",
       "555  [{'teammate': False, 'actor': False, 'keeper':...   pressing        fail   \n",
       "\n",
       "    bodypart_name  \n",
       "555          foot  \n",
       "\n",
       "[1 rows x 25 columns]"
      ]
     },
     "execution_count": 20,
     "metadata": {},
     "output_type": "execute_result"
    }
   ],
   "source": [
    "df_actions[df_actions['original_event_id'] == \"c2d74b65-f31d-4d50-a027-fb42fec6ac60\"]"
   ]
  },
  {
   "cell_type": "code",
   "execution_count": null,
   "metadata": {},
   "outputs": [
    {
     "data": {
      "text/plain": [
       "array([0.12175824], dtype=float32)"
      ]
     },
     "execution_count": 29,
     "metadata": {},
     "output_type": "execute_result"
    }
   ],
   "source": [
    "pressure_row = df_actions[df_actions['original_event_id'] == \"c2d74b65-f31d-4d50-a027-fb42fec6ac60\"]\n",
    "\n",
    "# MultiIndex를 DataFrame 형태로 리셋\n",
    "X_test_reset = X_test.reset_index()\n",
    "\n",
    "# 조건 기반 필터링\n",
    "X_test_pressure = X_test_reset[\n",
    "    (X_test_reset['game_id'] == pressure_row['game_id'].iloc[0]) &\n",
    "    (X_test_reset['action_id'] == pressure_row['action_id'].iloc[0])\n",
    "].set_index([\"game_id\", \"action_id\"])\n",
    "\n",
    "component.model.predict_proba(X_test_pressure)[:, 1]"
   ]
  },
  {
   "cell_type": "code",
   "execution_count": 51,
   "metadata": {},
   "outputs": [
    {
     "data": {
      "text/plain": [
       "(game_id  action_id\n",
       " 3895202  555          58.386763\n",
       " Name: teammate_1_x_a0, dtype: float64,\n",
       " game_id  action_id\n",
       " 3895202  555          33.644227\n",
       " Name: teammate_1_y_a0, dtype: float64)"
      ]
     },
     "execution_count": 51,
     "metadata": {},
     "output_type": "execute_result"
    }
   ],
   "source": [
    "X_test_pressure['teammate_1_x_a0'], X_test_pressure['teammate_1_y_a0']"
   ]
  },
  {
   "cell_type": "code",
   "execution_count": 36,
   "metadata": {},
   "outputs": [
    {
     "data": {
      "text/plain": [
       "counterpress    False\n",
       "Name: (3895202, 555), dtype: bool"
      ]
     },
     "execution_count": 36,
     "metadata": {},
     "output_type": "execute_result"
    }
   ],
   "source": [
    "y_test.loc[pressure_row['game_id'].iloc[0],\n",
    "    pressure_row['action_id'].iloc[0]]"
   ]
  },
  {
   "cell_type": "code",
   "execution_count": 40,
   "metadata": {},
   "outputs": [
    {
     "data": {
      "text/html": [
       "<div>\n",
       "<style scoped>\n",
       "    .dataframe tbody tr th:only-of-type {\n",
       "        vertical-align: middle;\n",
       "    }\n",
       "\n",
       "    .dataframe tbody tr th {\n",
       "        vertical-align: top;\n",
       "    }\n",
       "\n",
       "    .dataframe thead th {\n",
       "        text-align: right;\n",
       "    }\n",
       "</style>\n",
       "<table border=\"1\" class=\"dataframe\">\n",
       "  <thead>\n",
       "    <tr style=\"text-align: right;\">\n",
       "      <th></th>\n",
       "      <th>teammate</th>\n",
       "      <th>actor</th>\n",
       "      <th>keeper</th>\n",
       "      <th>x</th>\n",
       "      <th>y</th>\n",
       "    </tr>\n",
       "  </thead>\n",
       "  <tbody>\n",
       "    <tr>\n",
       "      <th>0</th>\n",
       "      <td>True</td>\n",
       "      <td>False</td>\n",
       "      <td>False</td>\n",
       "      <td>63.068898</td>\n",
       "      <td>38.443145</td>\n",
       "    </tr>\n",
       "    <tr>\n",
       "      <th>1</th>\n",
       "      <td>True</td>\n",
       "      <td>False</td>\n",
       "      <td>False</td>\n",
       "      <td>62.059875</td>\n",
       "      <td>28.309583</td>\n",
       "    </tr>\n",
       "    <tr>\n",
       "      <th>2</th>\n",
       "      <td>True</td>\n",
       "      <td>False</td>\n",
       "      <td>False</td>\n",
       "      <td>58.330044</td>\n",
       "      <td>50.941976</td>\n",
       "    </tr>\n",
       "    <tr>\n",
       "      <th>3</th>\n",
       "      <td>False</td>\n",
       "      <td>False</td>\n",
       "      <td>False</td>\n",
       "      <td>57.095208</td>\n",
       "      <td>33.809417</td>\n",
       "    </tr>\n",
       "    <tr>\n",
       "      <th>4</th>\n",
       "      <td>False</td>\n",
       "      <td>False</td>\n",
       "      <td>False</td>\n",
       "      <td>56.372985</td>\n",
       "      <td>44.958242</td>\n",
       "    </tr>\n",
       "    <tr>\n",
       "      <th>5</th>\n",
       "      <td>True</td>\n",
       "      <td>False</td>\n",
       "      <td>False</td>\n",
       "      <td>55.219196</td>\n",
       "      <td>42.150664</td>\n",
       "    </tr>\n",
       "    <tr>\n",
       "      <th>6</th>\n",
       "      <td>True</td>\n",
       "      <td>True</td>\n",
       "      <td>False</td>\n",
       "      <td>55.212499</td>\n",
       "      <td>34.679999</td>\n",
       "    </tr>\n",
       "    <tr>\n",
       "      <th>7</th>\n",
       "      <td>False</td>\n",
       "      <td>False</td>\n",
       "      <td>False</td>\n",
       "      <td>53.937279</td>\n",
       "      <td>34.735545</td>\n",
       "    </tr>\n",
       "    <tr>\n",
       "      <th>8</th>\n",
       "      <td>False</td>\n",
       "      <td>False</td>\n",
       "      <td>False</td>\n",
       "      <td>53.446130</td>\n",
       "      <td>25.906619</td>\n",
       "    </tr>\n",
       "    <tr>\n",
       "      <th>9</th>\n",
       "      <td>True</td>\n",
       "      <td>False</td>\n",
       "      <td>False</td>\n",
       "      <td>53.136673</td>\n",
       "      <td>12.197567</td>\n",
       "    </tr>\n",
       "    <tr>\n",
       "      <th>10</th>\n",
       "      <td>False</td>\n",
       "      <td>False</td>\n",
       "      <td>False</td>\n",
       "      <td>48.100963</td>\n",
       "      <td>40.105210</td>\n",
       "    </tr>\n",
       "    <tr>\n",
       "      <th>11</th>\n",
       "      <td>True</td>\n",
       "      <td>False</td>\n",
       "      <td>False</td>\n",
       "      <td>44.701375</td>\n",
       "      <td>27.512510</td>\n",
       "    </tr>\n",
       "    <tr>\n",
       "      <th>12</th>\n",
       "      <td>False</td>\n",
       "      <td>False</td>\n",
       "      <td>False</td>\n",
       "      <td>44.597026</td>\n",
       "      <td>53.104929</td>\n",
       "    </tr>\n",
       "    <tr>\n",
       "      <th>13</th>\n",
       "      <td>True</td>\n",
       "      <td>False</td>\n",
       "      <td>False</td>\n",
       "      <td>44.105941</td>\n",
       "      <td>56.146294</td>\n",
       "    </tr>\n",
       "  </tbody>\n",
       "</table>\n",
       "</div>"
      ],
      "text/plain": [
       "    teammate  actor  keeper          x          y\n",
       "0       True  False   False  63.068898  38.443145\n",
       "1       True  False   False  62.059875  28.309583\n",
       "2       True  False   False  58.330044  50.941976\n",
       "3      False  False   False  57.095208  33.809417\n",
       "4      False  False   False  56.372985  44.958242\n",
       "5       True  False   False  55.219196  42.150664\n",
       "6       True   True   False  55.212499  34.679999\n",
       "7      False  False   False  53.937279  34.735545\n",
       "8      False  False   False  53.446130  25.906619\n",
       "9       True  False   False  53.136673  12.197567\n",
       "10     False  False   False  48.100963  40.105210\n",
       "11      True  False   False  44.701375  27.512510\n",
       "12     False  False   False  44.597026  53.104929\n",
       "13      True  False   False  44.105941  56.146294"
      ]
     },
     "execution_count": 40,
     "metadata": {},
     "output_type": "execute_result"
    }
   ],
   "source": [
    "freeze_frame = pd.DataFrame.from_records(df_actions.loc[idx]['freeze_frame_360'])\n",
    "freeze_frame"
   ]
  },
  {
   "cell_type": "code",
   "execution_count": null,
   "metadata": {},
   "outputs": [],
   "source": [
    "teammate_locs = freeze_frame[freeze_frame.teammate].copy()\n",
    "opponent_locs = freeze_frame[~freeze_frame.teammate].copy()\n",
    "event_player_loc = freeze_frame[freeze_frame.actor].copy()\n"
   ]
  },
  {
   "cell_type": "code",
   "execution_count": 46,
   "metadata": {},
   "outputs": [
    {
     "data": {
      "text/html": [
       "<div>\n",
       "<style scoped>\n",
       "    .dataframe tbody tr th:only-of-type {\n",
       "        vertical-align: middle;\n",
       "    }\n",
       "\n",
       "    .dataframe tbody tr th {\n",
       "        vertical-align: top;\n",
       "    }\n",
       "\n",
       "    .dataframe thead th {\n",
       "        text-align: right;\n",
       "    }\n",
       "</style>\n",
       "<table border=\"1\" class=\"dataframe\">\n",
       "  <thead>\n",
       "    <tr style=\"text-align: right;\">\n",
       "      <th></th>\n",
       "      <th>teammate</th>\n",
       "      <th>actor</th>\n",
       "      <th>keeper</th>\n",
       "      <th>x</th>\n",
       "      <th>y</th>\n",
       "      <th>distance</th>\n",
       "    </tr>\n",
       "  </thead>\n",
       "  <tbody>\n",
       "    <tr>\n",
       "      <th>6</th>\n",
       "      <td>True</td>\n",
       "      <td>True</td>\n",
       "      <td>False</td>\n",
       "      <td>55.212499</td>\n",
       "      <td>34.679999</td>\n",
       "      <td>0.609944</td>\n",
       "    </tr>\n",
       "    <tr>\n",
       "      <th>5</th>\n",
       "      <td>True</td>\n",
       "      <td>False</td>\n",
       "      <td>False</td>\n",
       "      <td>55.219196</td>\n",
       "      <td>42.150664</td>\n",
       "      <td>7.907408</td>\n",
       "    </tr>\n",
       "    <tr>\n",
       "      <th>0</th>\n",
       "      <td>True</td>\n",
       "      <td>False</td>\n",
       "      <td>False</td>\n",
       "      <td>63.068898</td>\n",
       "      <td>38.443145</td>\n",
       "      <td>8.519425</td>\n",
       "    </tr>\n",
       "  </tbody>\n",
       "</table>\n",
       "</div>"
      ],
      "text/plain": [
       "   teammate  actor  keeper          x          y  distance\n",
       "6      True   True   False  55.212499  34.679999  0.609944\n",
       "5      True  False   False  55.219196  42.150664  7.907408\n",
       "0      True  False   False  63.068898  38.443145  8.519425"
      ]
     },
     "execution_count": 46,
     "metadata": {},
     "output_type": "execute_result"
    }
   ],
   "source": [
    "import numpy as np\n",
    "\n",
    "def calculate_distance(x1, y1, x2, y2):\n",
    "    \"\"\"Calculate Euclidean distance between two points.\"\"\"\n",
    "    return np.sqrt((x2 - x1) ** 2 + (y2 - y1) ** 2)\n",
    "\n",
    "teammate_locs['distance'] = teammate_locs.apply(lambda row: calculate_distance(df_actions.loc[idx].start_x, df_actions.loc[idx].start_y, row.x, row.y), axis=1)\n",
    "closest_teammates = teammate_locs.nsmallest(3, 'distance')\n",
    "\n",
    "# Calculate distances to opponents\n",
    "opponent_locs['distance'] = opponent_locs.apply(lambda row: calculate_distance(df_actions.loc[idx].start_x, df_actions.loc[idx].start_y, row.x, row.y), axis=1)\n",
    "closest_opponents = opponent_locs.nsmallest(3, 'distance')\n",
    "\n",
    "closest_teammates"
   ]
  },
  {
   "cell_type": "code",
   "execution_count": null,
   "metadata": {},
   "outputs": [
    {
     "data": {
      "text/html": [
       "<div>\n",
       "<style scoped>\n",
       "    .dataframe tbody tr th:only-of-type {\n",
       "        vertical-align: middle;\n",
       "    }\n",
       "\n",
       "    .dataframe tbody tr th {\n",
       "        vertical-align: top;\n",
       "    }\n",
       "\n",
       "    .dataframe thead th {\n",
       "        text-align: right;\n",
       "    }\n",
       "</style>\n",
       "<table border=\"1\" class=\"dataframe\">\n",
       "  <thead>\n",
       "    <tr style=\"text-align: right;\">\n",
       "      <th></th>\n",
       "      <th>teammate</th>\n",
       "      <th>actor</th>\n",
       "      <th>keeper</th>\n",
       "      <th>x</th>\n",
       "      <th>y</th>\n",
       "      <th>distance</th>\n",
       "    </tr>\n",
       "  </thead>\n",
       "  <tbody>\n",
       "    <tr>\n",
       "      <th>6</th>\n",
       "      <td>True</td>\n",
       "      <td>True</td>\n",
       "      <td>False</td>\n",
       "      <td>55.212499</td>\n",
       "      <td>34.679999</td>\n",
       "      <td>0.609944</td>\n",
       "    </tr>\n",
       "    <tr>\n",
       "      <th>5</th>\n",
       "      <td>True</td>\n",
       "      <td>False</td>\n",
       "      <td>False</td>\n",
       "      <td>55.219196</td>\n",
       "      <td>42.150664</td>\n",
       "      <td>7.907408</td>\n",
       "    </tr>\n",
       "    <tr>\n",
       "      <th>0</th>\n",
       "      <td>True</td>\n",
       "      <td>False</td>\n",
       "      <td>False</td>\n",
       "      <td>63.068898</td>\n",
       "      <td>38.443145</td>\n",
       "      <td>8.519425</td>\n",
       "    </tr>\n",
       "  </tbody>\n",
       "</table>\n",
       "</div>"
      ],
      "text/plain": [
       "   teammate  actor  keeper          x          y  distance\n",
       "6      True   True   False  55.212499  34.679999  0.609944\n",
       "5      True  False   False  55.219196  42.150664  7.907408\n",
       "0      True  False   False  63.068898  38.443145  8.519425"
      ]
     },
     "execution_count": 49,
     "metadata": {},
     "output_type": "execute_result"
    }
   ],
   "source": [
    "closest_teammates.iloc[]"
   ]
  },
  {
   "cell_type": "code",
   "execution_count": 47,
   "metadata": {},
   "outputs": [
    {
     "data": {
      "image/png": "[encoded data removed]",
      "text/plain": [
       "<Figure size 800x1200 with 1 Axes>"
      ]
     },
     "metadata": {},
     "output_type": "display_data"
    },
    {
     "data": {
      "image/png": "[encoded data removed]",
      "text/plain": [
       "<Figure size 800x1200 with 1 Axes>"
      ]
     },
     "metadata": {},
     "output_type": "display_data"
    },
    {
     "data": {
      "image/png": "[encoded data removed]",
      "text/plain": [
       "<Figure size 800x1200 with 1 Axes>"
      ]
     },
     "metadata": {},
     "output_type": "display_data"
    },
    {
     "data": {
      "image/png": "[encoded data removed]",
      "text/plain": [
       "<Figure size 800x1200 with 1 Axes>"
      ]
     },
     "metadata": {},
     "output_type": "display_data"
    }
   ],
   "source": [
    "# pressure_idx = df_actions[df_actions[\"type_name\"] == \"pressing\"].index[5]\n",
    "pressure_idx = df_actions[df_actions['original_event_id'] == \"c2d74b65-f31d-4d50-a027-fb42fec6ac60\"].index[0]\n",
    "home_team_id, away_team_id = test_db.get_home_away_team_id(game_id = game_id)\n",
    "for idx in range(pressure_idx-2, pressure_idx+2):\n",
    "    if df_actions.loc[idx][\"freeze_frame_360\"] is None:\n",
    "        print(\"Skip action due to missing freeze frame\")\n",
    "        continue\n",
    "    plot_action(df_actions.loc[idx], home_team_id=home_team_id)"
   ]
  },
  {
   "cell_type": "code",
   "execution_count": null,
   "metadata": {},
   "outputs": [],
   "source": []
  }
 ],
 "metadata": {
  "kernelspec": {
   "display_name": "mm",
   "language": "python",
   "name": "python3"
  },
  "language_info": {
   "codemirror_mode": {
    "name": "ipython",
    "version": 3
   },
   "file_extension": ".py",
   "mimetype": "text/x-python",
   "name": "python",
   "nbconvert_exporter": "python",
   "pygments_lexer": "ipython3",
   "version": "3.10.14"
  }
 },
 "nbformat": 4,
 "nbformat_minor": 2
}

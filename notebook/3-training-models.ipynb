{
 "cells": [
  {
   "cell_type": "code",
   "execution_count": 1,
   "metadata": {},
   "outputs": [
    {
     "name": "stdout",
     "output_type": "stream",
     "text": [
      "base_path: /home/uoscisai/Experiments/Football/sr-press\n"
     ]
    }
   ],
   "source": [
    "import os\n",
    "import sys\n",
    "import numpy as np\n",
    "import pandas as pd\n",
    "from tqdm.notebook import tqdm\n",
    "\n",
    "base_path = os.path.abspath(os.path.join(os.getcwd(), \"..\"))\n",
    "print(f\"base_path: {base_path}\")\n",
    "sys.path.append(base_path)"
   ]
  },
  {
   "cell_type": "code",
   "execution_count": 2,
   "metadata": {},
   "outputs": [],
   "source": [
    "from functools import partial\n",
    "from xgboost import XGBClassifier\n",
    "from gplearn.genetic import SymbolicClassifier"
   ]
  },
  {
   "cell_type": "code",
   "execution_count": 3,
   "metadata": {},
   "outputs": [],
   "source": [
    "from express.databases import SQLiteDatabase\n",
    "from express.datasets import PressingDataset\n",
    "from express.components import press\n",
    "from express.visualization import plot_action\n",
    "from express.utils import add_names"
   ]
  },
  {
   "cell_type": "code",
   "execution_count": 4,
   "metadata": {},
   "outputs": [
    {
     "name": "stdout",
     "output_type": "stream",
     "text": [
      "train_db: <express.databases.sqlite.SQLiteDatabase object at 0x73f06b0679a0>\n",
      "test_db: <express.databases.sqlite.SQLiteDatabase object at 0x73f06b0677c0>\n"
     ]
    }
   ],
   "source": [
    "TRAIN_DB_PATH = os.path.join(base_path, \"stores/train_database.sqlite\")\n",
    "TEST_DB_PATH = os.path.join(base_path, \"stores/test_database.sqlite\")\n",
    "\n",
    "train_db = SQLiteDatabase(TRAIN_DB_PATH)\n",
    "test_db = SQLiteDatabase(TEST_DB_PATH)\n",
    "\n",
    "print(\"train_db:\", train_db)\n",
    "print(\"test_db:\", test_db)"
   ]
  },
  {
   "cell_type": "code",
   "execution_count": 5,
   "metadata": {},
   "outputs": [
    {
     "name": "stdout",
     "output_type": "stream",
     "text": [
      "dataset_train: functools.partial(<class 'express.datasets.PressingDataset'>, path='/home/uoscisai/Experiments/Football/sr-press/stores/datasets/train')\n",
      "dataset_test: functools.partial(<class 'express.datasets.PressingDataset'>, path='/home/uoscisai/Experiments/Football/sr-press/stores/datasets/test')\n"
     ]
    }
   ],
   "source": [
    "dataset_train = partial(PressingDataset, path=os.path.join(base_path, \"stores\", \"datasets\", \"train\"))\n",
    "dataset_test = partial(PressingDataset, path=os.path.join(base_path, \"stores\", \"datasets\", \"test\"))\n",
    "\n",
    "print(\"dataset_train:\", dataset_train)\n",
    "print(\"dataset_test:\", dataset_test)"
   ]
  },
  {
   "cell_type": "code",
   "execution_count": 6,
   "metadata": {},
   "outputs": [
    {
     "name": "stdout",
     "output_type": "stream",
     "text": [
      "Test DataSet: (19453, 195)\n",
      "Test Dataset: {(False,): 9954, (True,): 2452}\n"
     ]
    }
   ],
   "source": [
    "# xgboost, symbolic_regression\n",
    "test_dataset = PressingDataset(\n",
    "    path= os.path.join(base_path, \"stores\", \"datasets\", \"test\"),\n",
    "    xfns=[\"startlocation\", \"closest_11_players\"],\n",
    "    yfns=[\"counterpress\"],\n",
    "    load_cached=True,\n",
    "    nb_prev_actions=3\n",
    ")\n",
    "\n",
    "# soccermap\n",
    "# test_dataset = PressingDataset(\n",
    "#     path= os.path.join(base_path, \"stores\", \"datasets\", \"test\"),\n",
    "#     xfns=[\"startlocation\", \"freeze_frame_360\"],\n",
    "#     yfns=[\"counterpress\"],\n",
    "#     load_cached=True,\n",
    "#     nb_prev_actions=1\n",
    "# )\n",
    "\n",
    "print(f\"Test DataSet: {test_dataset.features.shape}\")\n",
    "print(f\"Test Dataset: {test_dataset.labels.value_counts().to_dict()}\")"
   ]
  },
  {
   "cell_type": "code",
   "execution_count": 7,
   "metadata": {},
   "outputs": [
    {
     "data": {
      "text/plain": [
       "'/home/uoscisai/Experiments/Football/sr-press/stores/model/xgboost/000/component.pkl'"
      ]
     },
     "execution_count": 7,
     "metadata": {},
     "output_type": "execute_result"
    }
   ],
   "source": [
    "model = \"xgboost\" #\"soccermap\"\n",
    "trial = 0\n",
    "save_path = os.path.join(base_path, \"stores\", \"model\", model, f\"{trial:03d}\", \"component.pkl\")\n",
    "save_path"
   ]
  },
  {
   "cell_type": "code",
   "execution_count": 10,
   "metadata": {},
   "outputs": [],
   "source": [
    "from express.components.base import exPressComponent\n",
    "import pickle\n",
    "from pathlib import Path\n",
    "\n",
    "path = Path(save_path)\n",
    "#component = pickle.load(path.open(mode=\"rb\"))\n",
    "#component"
   ]
  },
  {
   "cell_type": "code",
   "execution_count": 11,
   "metadata": {},
   "outputs": [
    {
     "ename": "NameError",
     "evalue": "name 'component' is not defined",
     "output_type": "error",
     "traceback": [
      "\u001b[0;31m---------------------------------------------------------------------------\u001b[0m",
      "\u001b[0;31mNameError\u001b[0m                                 Traceback (most recent call last)",
      "Cell \u001b[0;32mIn[11], line 1\u001b[0m\n\u001b[0;32m----> 1\u001b[0m \u001b[43mcomponent\u001b[49m\u001b[38;5;241m.\u001b[39mtest(dataset_train)\n",
      "\u001b[0;31mNameError\u001b[0m: name 'component' is not defined"
     ]
    }
   ],
   "source": [
    "component.test(dataset_train)"
   ]
  },
  {
   "cell_type": "code",
   "execution_count": null,
   "metadata": {},
   "outputs": [],
   "source": [
    "component.test(dataset_test)"
   ]
  },
  {
   "cell_type": "code",
   "execution_count": 12,
   "metadata": {},
   "outputs": [
    {
     "ename": "NameError",
     "evalue": "name 'component' is not defined",
     "output_type": "error",
     "traceback": [
      "\u001b[0;31m---------------------------------------------------------------------------\u001b[0m",
      "\u001b[0;31mNameError\u001b[0m                                 Traceback (most recent call last)",
      "Cell \u001b[0;32mIn[12], line 32\u001b[0m\n\u001b[1;32m     28\u001b[0m     ax\u001b[38;5;241m.\u001b[39mset_title(\u001b[38;5;124m'\u001b[39m\u001b[38;5;124mROC Curve\u001b[39m\u001b[38;5;124m'\u001b[39m)\n\u001b[1;32m     29\u001b[0m     ax\u001b[38;5;241m.\u001b[39mlegend(loc\u001b[38;5;241m=\u001b[39m\u001b[38;5;124m'\u001b[39m\u001b[38;5;124mlower right\u001b[39m\u001b[38;5;124m'\u001b[39m)\n\u001b[0;32m---> 32\u001b[0m y_pred \u001b[38;5;241m=\u001b[39m \u001b[43mcomponent\u001b[49m\u001b[38;5;241m.\u001b[39mpredict(dataset_test)\u001b[38;5;241m.\u001b[39mvalues\n\u001b[1;32m     33\u001b[0m y_true \u001b[38;5;241m=\u001b[39m test_dataset\u001b[38;5;241m.\u001b[39mlabels[\u001b[38;5;124m\"\u001b[39m\u001b[38;5;124mcounterpress\u001b[39m\u001b[38;5;124m\"\u001b[39m]\u001b[38;5;241m.\u001b[39mvalues\n\u001b[1;32m     35\u001b[0m fig, axes \u001b[38;5;241m=\u001b[39m plt\u001b[38;5;241m.\u001b[39msubplots(\u001b[38;5;241m1\u001b[39m, \u001b[38;5;241m2\u001b[39m, figsize\u001b[38;5;241m=\u001b[39m(\u001b[38;5;241m14\u001b[39m, \u001b[38;5;241m6\u001b[39m))\n",
      "\u001b[0;31mNameError\u001b[0m: name 'component' is not defined"
     ]
    }
   ],
   "source": [
    "import torch\n",
    "import matplotlib.pyplot as plt\n",
    "from sklearn.calibration import calibration_curve\n",
    "from sklearn.metrics import roc_curve, roc_auc_score\n",
    "from torchmetrics.classification import BinaryCalibrationError\n",
    "\n",
    "def plot_calibration_curves(y_true, y_pred, ax):\n",
    "    bce_l1 = BinaryCalibrationError(n_bins=10, norm='l1')\n",
    "    ece = bce_l1(torch.Tensor(y_pred), torch.Tensor(y_true))\n",
    "\n",
    "    prob_true, prob_pred = calibration_curve(y_true, y_pred, n_bins=10)\n",
    "    ax.plot(prob_pred, prob_true, marker='o', label=f'{model} (ECE = {ece:.4f})')\n",
    "\n",
    "    ax.plot([0, 1], [0, 1], linestyle='--', color='grey', label='Perfect Calibration')\n",
    "    ax.set_xlabel('Predicted Probability')\n",
    "    ax.set_ylabel('True Probability')\n",
    "    ax.set_title('Calibration Plot')\n",
    "    ax.legend()\n",
    "\n",
    "def plot_roc_curves(y_true, y_pred, ax):\n",
    "    fpr, tpr, _ = roc_curve(y_true, y_pred)\n",
    "    auc_score = roc_auc_score(y_true, y_pred)\n",
    "    ax.plot(fpr, tpr, label=f'{model} (AUC = {auc_score:.4f})')\n",
    "\n",
    "    ax.plot([0, 1], [0, 1], linestyle='--', color='grey')\n",
    "    ax.set_xlabel('False Positive Rate')\n",
    "    ax.set_ylabel('True Positive Rate')\n",
    "    ax.set_title('ROC Curve')\n",
    "    ax.legend(loc='lower right')\n",
    "\n",
    "\n",
    "y_pred = component.predict(dataset_test).values\n",
    "y_true = test_dataset.labels[\"counterpress\"].values\n",
    "\n",
    "fig, axes = plt.subplots(1, 2, figsize=(14, 6))\n",
    "plot_calibration_curves(y_true, y_pred, axes[0])\n",
    "plot_roc_curves(y_true, y_pred, axes[1])\n",
    "plt.tight_layout(rect=[0, 0.03, 1, 0.95])\n",
    "plt.show()"
   ]
  },
  {
   "cell_type": "markdown",
   "metadata": {},
   "source": [
    "### XGBoost feature importances"
   ]
  },
  {
   "cell_type": "code",
   "execution_count": null,
   "metadata": {},
   "outputs": [],
   "source": [
    "k = 20  # 원하는 k 값을 설정하세요 (상위 k개)\n",
    "\n",
    "features = [col for _, cols in component.features.items() for col in cols]\n",
    "importances = component.model.feature_importances_\n",
    "indices = np.argsort(importances)[-k:]\n",
    "\n",
    "plt.figure(figsize=(max(10, k * 0.5), 10))  \n",
    "plt.barh(range(k), importances[indices], align='center')\n",
    "plt.yticks(range(k), [features[i] for i in indices])\n",
    "plt.xlabel('Feature Importance')\n",
    "plt.title('Top Feature Importances')\n",
    "plt.tight_layout()\n",
    "plt.show()\n"
   ]
  },
  {
   "cell_type": "code",
   "execution_count": null,
   "metadata": {},
   "outputs": [],
   "source": [
    "game_id = 3788741\n",
    "\n",
    "df_actions = add_names(train_db.actions(game_id)).reset_index()\n",
    "df_actions.head()"
   ]
  },
  {
   "cell_type": "markdown",
   "metadata": {},
   "source": [
    "### Visualization"
   ]
  },
  {
   "cell_type": "code",
   "execution_count": null,
   "metadata": {},
   "outputs": [],
   "source": [
    "pressure_idx = df_actions[df_actions[\"type_name\"] == \"pressing\"].index[5]\n",
    "home_team_id, away_team_id = train_db.get_home_away_team_id(game_id = 3788741)\n",
    "for idx in range(pressure_idx-2, pressure_idx+2):\n",
    "    if df_actions.loc[idx][\"freeze_frame_360\"] is None:\n",
    "        print(\"Skip action due to missing freeze frame\")\n",
    "        continue\n",
    "    plot_action(df_actions.loc[idx], home_team_id=home_team_id)"
   ]
  },
  {
   "cell_type": "code",
   "execution_count": null,
   "metadata": {},
   "outputs": [],
   "source": []
  }
 ],
 "metadata": {
  "kernelspec": {
   "display_name": "Python 3 (ipykernel)",
   "language": "python",
   "name": "python3"
  },
  "language_info": {
   "codemirror_mode": {
    "name": "ipython",
    "version": 3
   },
   "file_extension": ".py",
   "mimetype": "text/x-python",
   "name": "python",
   "nbconvert_exporter": "python",
   "pygments_lexer": "ipython3",
   "version": "3.10.15"
  }
 },
 "nbformat": 4,
 "nbformat_minor": 4
}
